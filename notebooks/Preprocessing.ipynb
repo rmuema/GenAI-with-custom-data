{
 "cells": [
  {
   "cell_type": "markdown",
   "source": [
    "\n",
    "Install Prequisites"
   ],
   "metadata": {
    "collapsed": false
   }
  },
  {
   "cell_type": "code",
   "execution_count": 64,
   "outputs": [],
   "source": [
    "# To extract text from documents\n",
    "# Need to have Java 7+ installed\n",
    "#!pip install tika"
   ],
   "metadata": {
    "collapsed": false
   }
  },
  {
   "cell_type": "code",
   "execution_count": 65,
   "outputs": [],
   "source": [
    "# Install wcmatch for wildcard matching and subfolder search\n",
    "#!pip install wcmatch"
   ],
   "metadata": {
    "collapsed": false
   }
  },
  {
   "cell_type": "code",
   "execution_count": 100,
   "outputs": [],
   "source": [
    "#Import libraries\n",
    "from tika import parser\n",
    "from wcmatch import wcmatch\n",
    "import os"
   ],
   "metadata": {
    "collapsed": false
   }
  },
  {
   "cell_type": "code",
   "execution_count": 101,
   "outputs": [],
   "source": [
    "# Create function to extract the data"
   ],
   "metadata": {
    "collapsed": false
   }
  },
  {
   "cell_type": "code",
   "execution_count": 102,
   "outputs": [],
   "source": [
    "def extract_data(file_path):\n",
    "    try:\n",
    "        parsed = parser.from_file(file_path)\n",
    "        text = parsed[\"content\"]\n",
    "        return text\n",
    "    except Exception as e:\n",
    "        text = 'Error extracting contents!'\n",
    "        return text\n"
   ],
   "metadata": {
    "collapsed": false
   }
  },
  {
   "cell_type": "code",
   "execution_count": 103,
   "outputs": [],
   "source": [
    "# Create function to extract file name without path and extensions"
   ],
   "metadata": {
    "collapsed": false
   }
  },
  {
   "cell_type": "code",
   "execution_count": 104,
   "outputs": [],
   "source": [
    "def extract_filename(file_path):\n",
    "    file_name, _ = os.path.splitext(file_path)\n",
    "    return file_name.split(\"\\\\\")[-1]"
   ],
   "metadata": {
    "collapsed": false
   }
  },
  {
   "cell_type": "code",
   "execution_count": 105,
   "outputs": [],
   "source": [
    "# Create function to analyse folder path to get files for processing"
   ],
   "metadata": {
    "collapsed": false
   }
  },
  {
   "cell_type": "code",
   "execution_count": 106,
   "outputs": [],
   "source": [
    "def analyse_path(folder_path, file_ext, folder_destination):\n",
    "    # List to capture Unprocessed files\n",
    "    error_files = []\n",
    "    files = wcmatch.WcMatch(root_dir=folder_path, file_pattern=file_ext, flags=wcmatch.RECURSIVE).match()\n",
    "    print(str(len(files)) + \" files to be processed!\")\n",
    "\n",
    "    # Loop through and process each file at a time\n",
    "    i = 0\n",
    "    while i < len(files):\n",
    "        text = extract_data(files[i])\n",
    "\n",
    "        if text == \"Error extracting contents!\":\n",
    "            # Get a list of documents which had errors extracting the contents\n",
    "            error_files.append(files[i])\n",
    "        else:\n",
    "            # Save contents as a text file\n",
    "            try:\n",
    "                file_name = extract_filename(files[i])\n",
    "                f = open(folder_destination + file_name + \".txt\", \"wb\")\n",
    "                f.write(text.encode('utf-8'))\n",
    "                f.close()\n",
    "            except Exception as e:\n",
    "                print (files[i])\n",
    "                print (\"Error saving extraction to file \" + str(e))\n",
    "\n",
    "        # Increment counter\n",
    "        i += 1\n",
    "\n",
    "    print(\" The following files could not be processed: \")\n",
    "    [print(x) for x in error_files]"
   ],
   "metadata": {
    "collapsed": false
   }
  },
  {
   "cell_type": "code",
   "execution_count": 107,
   "outputs": [],
   "source": [
    "# Create required variables"
   ],
   "metadata": {
    "collapsed": false
   }
  },
  {
   "cell_type": "code",
   "execution_count": 109,
   "outputs": [],
   "source": [
    "# Read from the following path\n",
    "folder_path = \"C:\\\\Users\\\\r.muema\\\\Documents\\\\Study\\\\KaggleX\\\\Project\\\\Source data\"\n",
    "#Only process the following file formats\n",
    "file_ext = \"*.doc|*.docx|*.xlsx|*.xls|*.pdf|*.txt|*.ppt|*.pptx\"\n",
    "# Save to the following path\n",
    "folder_destination = \"C:\\\\Users\\\\r.muema\\\\Documents\\\\Study\\\\KaggleX\\\\Project\\\\Extracted data\\\\\""
   ],
   "metadata": {
    "collapsed": false
   }
  },
  {
   "cell_type": "code",
   "execution_count": 110,
   "outputs": [],
   "source": [
    "# Run the extraction program"
   ],
   "metadata": {
    "collapsed": false
   }
  },
  {
   "cell_type": "code",
   "execution_count": 111,
   "outputs": [
    {
     "name": "stdout",
     "output_type": "stream",
     "text": [
      "1831 files to be processed!\n"
     ]
    },
    {
     "name": "stderr",
     "output_type": "stream",
     "text": [
      "2023-09-08 16:13:16,936 [MainThread  ] [WARNI]  Failed to see startup log message; retrying...\n",
      "2023-09-08 16:21:37,414 [MainThread  ] [WARNI]  Failed to see startup log message; retrying...\n",
      "2023-09-08 16:26:54,209 [MainThread  ] [WARNI]  Failed to see startup log message; retrying...\n",
      "2023-09-08 16:35:17,070 [MainThread  ] [WARNI]  Failed to see startup log message; retrying...\n",
      "2023-09-08 16:43:46,530 [MainThread  ] [WARNI]  Failed to see startup log message; retrying...\n",
      "2023-09-08 16:56:30,306 [MainThread  ] [WARNI]  Failed to see startup log message; retrying...\n",
      "2023-09-08 17:01:39,810 [MainThread  ] [WARNI]  Failed to see startup log message; retrying...\n",
      "2023-09-08 17:21:29,938 [MainThread  ] [WARNI]  Failed to see startup log message; retrying...\n",
      "2023-09-08 17:40:58,935 [MainThread  ] [WARNI]  Failed to see startup log message; retrying...\n",
      "2023-09-08 17:48:23,648 [MainThread  ] [WARNI]  Failed to see startup log message; retrying...\n",
      "2023-09-08 18:04:04,581 [MainThread  ] [WARNI]  Failed to see startup log message; retrying...\n",
      "2023-09-08 18:04:09,779 [MainThread  ] [WARNI]  Failed to see startup log message; retrying...\n",
      "2023-09-08 18:30:07,146 [MainThread  ] [WARNI]  Failed to see startup log message; retrying...\n",
      "2023-09-08 18:54:19,531 [MainThread  ] [WARNI]  Failed to see startup log message; retrying...\n",
      "2023-09-08 19:01:17,087 [MainThread  ] [WARNI]  Failed to see startup log message; retrying...\n"
     ]
    },
    {
     "name": "stdout",
     "output_type": "stream",
     "text": [
      "C:\\Users\\r.muema\\Documents\\Study\\KaggleX\\Project\\Source data\\ELO KnowledgeBase\\Training\\ELO V20 ECM DMS Suite BP Training Agenda - 2022\\Certification Training\\ELO 12 RM and BSF Training\\Using The Mic.pdf\n",
      "Error saving extraction to file 'NoneType' object has no attribute 'encode'\n",
      " The following files could not be processed: \n",
      "C:\\Users\\r.muema\\Documents\\Study\\KaggleX\\Project\\Source data\\Development\\DISCONTINUED\\Architecture Design\\ELO Code Conventions.pptx\n",
      "C:\\Users\\r.muema\\Documents\\Study\\KaggleX\\Project\\Source data\\Development\\ELO RMS - ELO EDRMS SOLUTION\\DISCONTINUED VERSIONS EARLIER THAN RMS V1.1\\Documentation & Training\\DISCONTINUED\\How To Documents\\HowTo- RM Configurations.docx\n",
      "C:\\Users\\r.muema\\Documents\\Study\\KaggleX\\Project\\Source data\\Development\\ELO RMS - ELO EDRMS SOLUTION\\DISCONTINUED VERSIONS EARLIER THAN RMS V1.1\\Documentation & Training(1)\\ELO EDRMS scripts handover document.docx\n",
      "C:\\Users\\r.muema\\Documents\\Study\\KaggleX\\Project\\Source data\\Development\\ELO RMS - ELO EDRMS SOLUTION\\DISCONTINUED VERSIONS EARLIER THAN RMS V1.1\\EDRMS for Councils\\EDRMS Administrator Manual.docx\n",
      "C:\\Users\\r.muema\\Documents\\Study\\KaggleX\\Project\\Source data\\Development\\ELO RMS - ELO EDRMS SOLUTION\\DISCONTINUED VERSIONS EARLIER THAN RMS V1.1\\EDRMS for Councils\\EDRMS User Manual.docx\n",
      "C:\\Users\\r.muema\\Documents\\Study\\KaggleX\\Project\\Source data\\Development\\ELO RMS - ELO EDRMS SOLUTION\\OFFICIAL RELEASES\\DISCONTINUED VERSIONS\\ELO RMS V1.1 ON ELO ECM V11\\BSF and Modules\\EDRMS RM DB BULK LOAD WF WEBAPP - MOST RECENT CODEBASE ON OFFICIAL RMS PRODUCT VERSION\\Documentation\\EDRMS RM DB BULK LOAD WF WEBAPP.docx\n",
      "C:\\Users\\r.muema\\Documents\\Study\\KaggleX\\Project\\Source data\\Development\\ELO RMS - ELO EDRMS SOLUTION\\OFFICIAL RELEASES\\DISCONTINUED VERSIONS\\ELO RMS V1.1 ON ELO ECM V11\\Configuration\\DISCONTINUED REFERENCES\\EDRMS V1.1 Product Reference Manual - IN PROGRESS.docx\n",
      "C:\\Users\\r.muema\\Documents\\Study\\KaggleX\\Project\\Source data\\Development\\ELO RMS - ELO EDRMS SOLUTION\\OFFICIAL RELEASES\\DISCONTINUED VERSIONS\\ELO RMS V1.1 ON ELO ECM V11\\Configuration\\DISCONTINUED REFERENCES\\ELO ECM DMS Administration - training materials.pptx\n",
      "C:\\Users\\r.muema\\Documents\\Study\\KaggleX\\Project\\Source data\\Development\\ELO RMS - ELO EDRMS SOLUTION\\OFFICIAL RELEASES\\DISCONTINUED VERSIONS\\ELO RMS V1.1 ON ELO ECM V11\\Manuals\\EDRMS V1.1 Product Reference Manual - IN PROGRESS.docx\n",
      "C:\\Users\\r.muema\\Documents\\Study\\KaggleX\\Project\\Source data\\Development\\ELO RMS - ELO EDRMS SOLUTION\\OFFICIAL RELEASES\\DISCONTINUED VERSIONS\\ELO RMS V1.1 ON ELO ECM V11\\Manuals\\EDRMS V1.1 Setup and Installation Reference Manual.docx\n",
      "C:\\Users\\r.muema\\Documents\\Study\\KaggleX\\Project\\Source data\\Development\\ELO RMS - ELO EDRMS SOLUTION\\OFFICIAL RELEASES\\DISCONTINUED VERSIONS\\ELO RMS V1.1 ON ELO ECM V11\\Manuals\\ELO ECM DMS Administration - training materials.pptx\n",
      "C:\\Users\\r.muema\\Documents\\Study\\KaggleX\\Project\\Source data\\Development\\ELO RMS - ELO EDRMS SOLUTION\\OFFICIAL RELEASES\\DISCONTINUED VERSIONS\\ELO RMS V1.1 ON ELO ECM V11\\Testing Acceptance\\DISCONTINUED\\EDRMS Acceptance Testing.docx\n",
      "C:\\Users\\r.muema\\Documents\\Study\\KaggleX\\Project\\Source data\\Development\\ELO RMS - ELO EDRMS SOLUTION\\OFFICIAL RELEASES\\DISCONTINUED VERSIONS\\ELO RMS V1.2 ON ELO ECM V11\\BSF and Modules\\EDRMS RM DB BULK LOAD WF WEBAPP - MOST RECENT CODEBASE ON OFFICIAL RMS PRODUCT VERSION\\Documentation\\EDRMS RM DB BULK LOAD WF WEBAPP.docx\n",
      "C:\\Users\\r.muema\\Documents\\Study\\KaggleX\\Project\\Source data\\Development\\ELO RMS - ELO EDRMS SOLUTION\\OFFICIAL RELEASES\\DISCONTINUED VERSIONS\\ELO RMS V1.2 ON ELO ECM V11\\BSF and Modules\\VERS\\VERS ELO\\Statement of Compliance\\ELO VERS Statement of Compliance 20141014 (Signed Copy).pdf\n",
      "C:\\Users\\r.muema\\Documents\\Study\\KaggleX\\Project\\Source data\\Development\\ELO RMS - ELO EDRMS SOLUTION\\OFFICIAL RELEASES\\DISCONTINUED VERSIONS\\ELO RMS V1.2 ON ELO ECM V11\\Manuals\\ELO ECM DMS Administration - training materials.pptx\n",
      "C:\\Users\\r.muema\\Documents\\Study\\KaggleX\\Project\\Source data\\Development\\ELO RMS - ELO EDRMS SOLUTION\\OFFICIAL RELEASES\\DISCONTINUED VERSIONS\\ELO RMS V1.2.2 ON ELO ECM V11\\BSF and Modules\\EDRMS RM DB BULK LOAD WF WEBAPP - MOST RECENT CODEBASE ON OFFICIAL RMS PRODUCT VERSION\\Documentation\\EDRMS RM DB BULK LOAD WF WEBAPP.docx\n",
      "C:\\Users\\r.muema\\Documents\\Study\\KaggleX\\Project\\Source data\\Development\\ELO RMS - ELO EDRMS SOLUTION\\OFFICIAL RELEASES\\DISCONTINUED VERSIONS\\ELO RMS V1.2.2 ON ELO ECM V11\\BSF and Modules\\VERS\\VEO Export Feature\\Installation steps for VERS certificate.docx\n",
      "C:\\Users\\r.muema\\Documents\\Study\\KaggleX\\Project\\Source data\\Development\\ELO RMS - ELO EDRMS SOLUTION\\OFFICIAL RELEASES\\DISCONTINUED VERSIONS\\ELO RMS V1.2.2 ON ELO ECM V11\\Manuals\\ELO ECM DMS Administration - training materials.pptx\n",
      "C:\\Users\\r.muema\\Documents\\Study\\KaggleX\\Project\\Source data\\Development\\ELO RMS - ELO EDRMS SOLUTION\\OFFICIAL RELEASES\\ELO RMS V1.2 ON ELO ECM V12 (CUSTOMISED - UNSUPPORTED)\\Manuals\\EDRMS Manual End User.docx\n",
      "C:\\Users\\r.muema\\Documents\\Study\\KaggleX\\Project\\Source data\\Development\\ELO RMS - ELO EDRMS SOLUTION\\OFFICIAL RELEASES\\ELO RMS V1.2 ON ELO ECM V12 (CUSTOMISED - UNSUPPORTED)\\Manuals\\EDRMS Manual Power User.docx\n",
      "C:\\Users\\r.muema\\Documents\\Study\\KaggleX\\Project\\Source data\\Development\\ELO RMS - ELO EDRMS SOLUTION\\OFFICIAL RELEASES\\ELO RMS V1.2 ON ELO ECM V12 (CUSTOMISED - UNSUPPORTED)\\Manuals\\EDRMS Manual RM Administrator.docx\n",
      "C:\\Users\\r.muema\\Documents\\Study\\KaggleX\\Project\\Source data\\Development\\ELO RMS - ELO EDRMS SOLUTION\\OFFICIAL RELEASES\\ELO RMS V1.2 ON ELO ECM V12 (CUSTOMISED - UNSUPPORTED)\\Manuals\\EDRMS Manual RM Standard Workflows.docx\n",
      "C:\\Users\\r.muema\\Documents\\Study\\KaggleX\\Project\\Source data\\Development\\ELO RMS - ELO EDRMS SOLUTION\\OFFICIAL RELEASES\\ELO RMS V1.2.3 ON ELO ECM V11\\Manuals\\EDRMS Manual End User.docx\n",
      "C:\\Users\\r.muema\\Documents\\Study\\KaggleX\\Project\\Source data\\Development\\ELO RMS - ELO EDRMS SOLUTION\\OFFICIAL RELEASES\\ELO RMS V1.2.3 ON ELO ECM V11\\Manuals\\EDRMS Manual Power User.docx\n",
      "C:\\Users\\r.muema\\Documents\\Study\\KaggleX\\Project\\Source data\\Development\\ELO RMS - ELO EDRMS SOLUTION\\OFFICIAL RELEASES\\ELO RMS V1.2.3 ON ELO ECM V11\\Manuals\\EDRMS Manual RM Administrator.docx\n",
      "C:\\Users\\r.muema\\Documents\\Study\\KaggleX\\Project\\Source data\\Development\\ELO RMS - ELO EDRMS SOLUTION\\OFFICIAL RELEASES\\ELO RMS V1.2.3 ON ELO ECM V11\\Manuals\\EDRMS Manual RM Standard Workflows.docx\n",
      "C:\\Users\\r.muema\\Documents\\Study\\KaggleX\\Project\\Source data\\Development\\ELO RMS - ELO EDRMS SOLUTION\\OFFICIAL RELEASES\\ELO RMS V1.2.3 ON ELO ECM V11\\Manuals\\EDRMS Manual System Administration.docx\n",
      "C:\\Users\\r.muema\\Documents\\Study\\KaggleX\\Project\\Source data\\Development\\ELO RMS - ELO EDRMS SOLUTION\\OFFICIAL RELEASES\\ELO RMS V1.2.3 ON ELO ECM V11\\Manuals\\ELO ECM DMS Administration - training materials.pptx\n",
      "C:\\Users\\r.muema\\Documents\\Study\\KaggleX\\Project\\Source data\\Development\\ELO RMS - ELO EDRMS SOLUTION\\OFFICIAL RELEASES\\ELO RMS V1.2.4 ON ELO ECM V12\\BSF and Modules\\EDRMS RM DB BULK LOAD WF WEBAPP - MOST RECENT CODEBASE ON OFFICIAL RMS PRODUCT VERSION\\Documentation\\EDRMS RM DB BULK LOAD WF WEBAPP.docx\n",
      "C:\\Users\\r.muema\\Documents\\Study\\KaggleX\\Project\\Source data\\Development\\ELO RMS - ELO EDRMS SOLUTION\\OFFICIAL RELEASES\\ELO RMS V1.2.4 ON ELO ECM V12\\Configuration\\EDRMS Configuration Areas - RMS V1.2.docx\n",
      "C:\\Users\\r.muema\\Documents\\Study\\KaggleX\\Project\\Source data\\ELO ECM Documentation\\Documents from ELO Academy\\Docs for training purposes Self-Study\\ELO2011 Training - Master Documents\\01. ELO2011 Basics\\Day 1 - 2 - ELOprofessional 11  Server Install.pptx\n",
      "C:\\Users\\r.muema\\Documents\\Study\\KaggleX\\Project\\Source data\\ELO ECM Documentation\\Documents from ELO Academy\\Docs for training purposes Self-Study\\ELO2011 Training - Master Documents\\01. ELO2011 Basics\\ELO2011 - Basic Installation and Configuration.docx\n",
      "C:\\Users\\r.muema\\Documents\\Study\\KaggleX\\Project\\Source data\\ELO ECM Documentation\\Documents from ELO Academy\\Docs for training purposes Self-Study\\ELO2011 Training - Master Documents\\Automation Services Training\\ELOas – Automation Services Presentation.pptx\n",
      "C:\\Users\\r.muema\\Documents\\Study\\KaggleX\\Project\\Source data\\ELO ECM Documentation\\Documents from ELO Academy\\Docs for training purposes Self-Study\\ELO2011 Training - Master Documents\\Day 1 Training\\Day 1 - 1 - ELO Basics and Java Client benefits.pptx\n",
      "C:\\Users\\r.muema\\Documents\\Study\\KaggleX\\Project\\Source data\\ELO ECM Documentation\\ELO Enterprise\\Text Reader\\OCRTextreader_Windows.pdf\n",
      "C:\\Users\\r.muema\\Documents\\Study\\KaggleX\\Project\\Source data\\ELO ECM Documentation\\ELO Interfaces\\DocXtractor\\Technical Training\\DX-Training Administration_eng2009.ppt\n",
      "C:\\Users\\r.muema\\Documents\\Study\\KaggleX\\Project\\Source data\\ELO ECM Documentation\\ELO Interfaces\\DocXtractor\\Technical Training\\DX-Training Verifier 4.0_INVOICE_eng2009.ppt\n",
      "C:\\Users\\r.muema\\Documents\\Study\\KaggleX\\Project\\Source data\\ELO ECM Documentation\\ELO Interfaces\\DX2\\Beschreibung_Systemdemo_DocXtrctorII_V1 0_englisch.doc\n",
      "C:\\Users\\r.muema\\Documents\\Study\\KaggleX\\Project\\Source data\\ELO ECM Documentation\\ELO Interfaces\\DX2\\DocXtractor II English- mit Ref.ppt.ppt\n",
      "C:\\Users\\r.muema\\Documents\\Study\\KaggleX\\Project\\Source data\\ELO ECM Documentation\\ELO Interfaces\\DX2\\DocXtractor II English- with Ref.ppt\n",
      "C:\\Users\\r.muema\\Documents\\Study\\KaggleX\\Project\\Source data\\ELO ECM Documentation\\ELO Interfaces\\DX2\\White_Paper_DocXtractorII_IN_ARBEIT_englisch.doc\n",
      "C:\\Users\\r.muema\\Documents\\Study\\KaggleX\\Project\\Source data\\ELO ECM Documentation\\ELO Interfaces\\SAP ArchiveLink\\SAP Training Manuals\\TADM10-1\\TADM10-01.pdf\n",
      "C:\\Users\\r.muema\\Documents\\Study\\KaggleX\\Project\\Source data\\ELO ECM Documentation\\ELO Interfaces\\SAP ArchiveLink\\SAP Training Manuals\\TADM10-1\\TADM12_2_BETTER QUALITY.pdf\n",
      "C:\\Users\\r.muema\\Documents\\Study\\KaggleX\\Project\\Source data\\ELO ECM Documentation\\ELO V12 Documentation\\EN-ELO-Java-Client-Scripting.pdf\n",
      "C:\\Users\\r.muema\\Documents\\Study\\KaggleX\\Project\\Source data\\ELO ECM Documentation\\Manuals _ Generic User, Power User & Admin\\ELO General User Manual.docx\n",
      "C:\\Users\\r.muema\\Documents\\Study\\KaggleX\\Project\\Source data\\ELO ECM Documentation\\Manuals _ Generic User, Power User & Admin\\ELO RMS Administration manual.docx\n",
      "C:\\Users\\r.muema\\Documents\\Study\\KaggleX\\Project\\Source data\\ELO ECM Documentation\\Manuals _ Generic User, Power User & Admin\\Generic_ Power User Activity Manual.docx\n",
      "C:\\Users\\r.muema\\Documents\\Study\\KaggleX\\Project\\Source data\\ELO ECM Documentation\\Template How To Documents\\Sample_HowTo- ECM Archive Document through Microsoft Office.docx\n",
      "C:\\Users\\r.muema\\Documents\\Study\\KaggleX\\Project\\Source data\\ELO KnowledgeBase\\(companyname) RM Project Structure\\Training and Documentation\\EDRMS Manuals\\EDRMS Administrator Manual.docx\n",
      "C:\\Users\\r.muema\\Documents\\Study\\KaggleX\\Project\\Source data\\ELO KnowledgeBase\\(companyname) RM Project Structure\\Training and Documentation\\EDRMS Manuals\\EDRMS Power User Manual.docx\n",
      "C:\\Users\\r.muema\\Documents\\Study\\KaggleX\\Project\\Source data\\ELO KnowledgeBase\\(companyname) RM Project Structure\\Training and Documentation\\EDRMS Manuals\\EDRMS User Manual.docx\n",
      "C:\\Users\\r.muema\\Documents\\Study\\KaggleX\\Project\\Source data\\ELO KnowledgeBase\\(companyname) RM Project Structure\\Training and Documentation\\HowToDocuments\\HowTo - Install ELO Macros in Windows environment -20170308 - v2.docx\n",
      "C:\\Users\\r.muema\\Documents\\Study\\KaggleX\\Project\\Source data\\ELO KnowledgeBase\\(companyname) RM Project Structure\\Training and Documentation\\HowToDocuments\\HowTo - Keyword Form Creation ELO Version 9.docx\n",
      "C:\\Users\\r.muema\\Documents\\Study\\KaggleX\\Project\\Source data\\ELO KnowledgeBase\\(companyname) RM Project Structure\\Training and Documentation\\HowToDocuments\\HowTo- RM Configurations.docx\n",
      "C:\\Users\\r.muema\\Documents\\Study\\KaggleX\\Project\\Source data\\ELO KnowledgeBase\\Business Solutions\\Contract Management\\ELO BSF Contract Management Webinar Script.docx\n",
      "C:\\Users\\r.muema\\Documents\\Study\\KaggleX\\Project\\Source data\\ELO KnowledgeBase\\Business Solutions\\Contract Management\\ELO Digital - BSF Contract.pptx\n",
      "C:\\Users\\r.muema\\Documents\\Study\\KaggleX\\Project\\Source data\\ELO KnowledgeBase\\Business Solutions\\e-Forms\\Orbeon ELO Connector.docx\n",
      "C:\\Users\\r.muema\\Documents\\Study\\KaggleX\\Project\\Source data\\ELO KnowledgeBase\\Business Solutions\\HR Personnel File\\ELO BSF HR Personnel Files Webinar Script.docx\n",
      "C:\\Users\\r.muema\\Documents\\Study\\KaggleX\\Project\\Source data\\ELO KnowledgeBase\\Business Solutions\\Invoice\\BSF Invoice Deployment Instructions.docx\n",
      "C:\\Users\\r.muema\\Documents\\Study\\KaggleX\\Project\\Source data\\ELO KnowledgeBase\\ELO WAY Folder Structure\\Customer Name\\PROJECTS\\ELO Project 1\\07-Training\\ELO EDRMS Administration manual.docx\n",
      "C:\\Users\\r.muema\\Documents\\Study\\KaggleX\\Project\\Source data\\ELO KnowledgeBase\\Master EDRMS VM - discontinued\\Training\\EDRMS Manual General User.docx\n",
      "C:\\Users\\r.muema\\Documents\\Study\\KaggleX\\Project\\Source data\\ELO KnowledgeBase\\Master EDRMS VM - discontinued\\Training\\EDRMS Manual Power User.docx\n",
      "C:\\Users\\r.muema\\Documents\\Study\\KaggleX\\Project\\Source data\\ELO KnowledgeBase\\Master EDRMS VM - discontinued\\Training\\EDRMS Manual RM Administrator.docx\n",
      "C:\\Users\\r.muema\\Documents\\Study\\KaggleX\\Project\\Source data\\ELO KnowledgeBase\\Master EDRMS VM - discontinued\\Training\\HowTo- ECM Document archive Notification.docx\n",
      "C:\\Users\\r.muema\\Documents\\Study\\KaggleX\\Project\\Source data\\ELO KnowledgeBase\\Master EDRMS VM - discontinued\\Training\\HowTo- RM Configurations.docx\n",
      "C:\\Users\\r.muema\\Documents\\Study\\KaggleX\\Project\\Source data\\ELO KnowledgeBase\\Records Management Resources\\RMS ELO Upgrade Strategy and Tools\\2022 RMS ELO Upgrade Planning\\ELO v20 New Features and Enhancements.pptx\n",
      "C:\\Users\\r.muema\\Documents\\Study\\KaggleX\\Project\\Source data\\ELO KnowledgeBase\\Templates\\OLD AND DISCONTINUED DOCUMENTS\\Template - Report - CUSTOMER - Upgrade Analysis Document.docx\n",
      "C:\\Users\\r.muema\\Documents\\Study\\KaggleX\\Project\\Source data\\ELO KnowledgeBase\\Templates\\OLD AND DISCONTINUED DOCUMENTS\\[Client] ELO Project Approach, Reports & Task Management.pptx\n",
      "C:\\Users\\r.muema\\Documents\\Study\\KaggleX\\Project\\Source data\\ELO KnowledgeBase\\Training\\ELO Company and Products - Overview.pptx\n",
      "C:\\Users\\r.muema\\Documents\\Study\\KaggleX\\Project\\Source data\\ELO KnowledgeBase\\Training\\ELO DocXtractor product - training materials.pptx\n",
      "C:\\Users\\r.muema\\Documents\\Study\\KaggleX\\Project\\Source data\\ELO KnowledgeBase\\Training\\ELO ECM DMS Administration - training materials.pptx\n",
      "C:\\Users\\r.muema\\Documents\\Study\\KaggleX\\Project\\Source data\\ELO KnowledgeBase\\Training\\ELO RMS product - training materials.pptx\n",
      "C:\\Users\\r.muema\\Documents\\Study\\KaggleX\\Project\\Source data\\ELO KnowledgeBase\\Training\\Refresher course and key changes in ELO V20.pptx\n",
      "C:\\Users\\r.muema\\Documents\\Study\\KaggleX\\Project\\Source data\\ELO KnowledgeBase\\Training\\DISCONTINUED\\ELOexpress EndUser_Functionalities.docx\n",
      "C:\\Users\\r.muema\\Documents\\Study\\KaggleX\\Project\\Source data\\ELO KnowledgeBase\\Training\\ELO V20 ECM DMS Suite BP Training Agenda - 2022\\Certification Training\\Day 1- ELO 10 Certificate Course Installation.docx\n",
      "C:\\Users\\r.muema\\Documents\\Study\\KaggleX\\Project\\Source data\\ELO KnowledgeBase\\Training\\ELO V20 ECM DMS Suite BP Training Agenda - 2022\\Certification Training\\ELO 12 RM and BSF Training\\EDRMS V1.1 Product Reference Manual - IN PROGRESS.docx\n",
      "C:\\Users\\r.muema\\Documents\\Study\\KaggleX\\Project\\Source data\\ELO KnowledgeBase\\Training\\ELO V20 ECM DMS Suite BP Training Agenda - 2022\\Certification Training\\ELO 12 RM and BSF Training\\EDRMS V1.1 Setup and Installation Reference Manual.docx\n",
      "C:\\Users\\r.muema\\Documents\\Study\\KaggleX\\Project\\Source data\\ELO KnowledgeBase\\Training\\ELO V20 ECM DMS Suite BP Training Agenda - 2022\\Certification Training\\ELO 12 RM and BSF Training\\ELO EDRMS Deployment Guide.docx\n",
      "C:\\Users\\r.muema\\Documents\\Study\\KaggleX\\Project\\Source data\\ELO KnowledgeBase\\Training\\ELO V20 ECM DMS Suite BP Training Agenda - 2022\\Certification Training\\ELO 12 RM and BSF Training\\ELO RMS Training.pptx\n"
     ]
    }
   ],
   "source": [
    "analyse_path(folder_path, file_ext, folder_destination)"
   ],
   "metadata": {
    "collapsed": false
   }
  },
  {
   "cell_type": "code",
   "execution_count": null,
   "outputs": [],
   "source": [],
   "metadata": {
    "collapsed": false
   }
  }
 ],
 "metadata": {
  "kernelspec": {
   "display_name": "Python 3",
   "language": "python",
   "name": "python3"
  },
  "language_info": {
   "codemirror_mode": {
    "name": "ipython",
    "version": 2
   },
   "file_extension": ".py",
   "mimetype": "text/x-python",
   "name": "python",
   "nbconvert_exporter": "python",
   "pygments_lexer": "ipython2",
   "version": "2.7.6"
  }
 },
 "nbformat": 4,
 "nbformat_minor": 0
}
