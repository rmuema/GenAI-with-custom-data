{
 "cells": [
  {
   "cell_type": "code",
   "execution_count": 1,
   "metadata": {
    "collapsed": true
   },
   "outputs": [],
   "source": [
    "from wcmatch import wcmatch\n",
    "import os\n",
    "from tqdm import tqdm"
   ]
  },
  {
   "cell_type": "code",
   "execution_count": 6,
   "outputs": [],
   "source": [
    "# function to extract sentences from text files\n",
    "def extract_sentences(file_path):\n",
    "    # This is what will be returned from the function with Empty as a placeholder\n",
    "    final_content = \"Empty\"\n",
    "    # The files contents will be saved in the variable below for processing\n",
    "    content = ''\n",
    "    # Stride length is the maximum number of words we want to include in our sequence being generated\n",
    "    stride = 500\n",
    "\n",
    "    # Validate file path and return \"Empty\" if not valid\n",
    "    if not os.path.isfile(file_path):\n",
    "        print(\"{} does not exist \".format(file_path))\n",
    "        return final_content\n",
    "\n",
    "    # Read file and remove empty line and new lines\n",
    "    with open(file_path, 'r') as file:\n",
    "        for line in file.readlines():\n",
    "            if line.strip():\n",
    "                if len(line.strip()) > 2:\n",
    "                    content += line.replace('\\n','')\n",
    "\n",
    "    # Create list of words and generate number of words\n",
    "    split_content = content.split()\n",
    "    seq_len = len(split_content)\n",
    "\n",
    "    # Check that contents have been extracted and reset Empty flag\n",
    "    if seq_len > 0:\n",
    "        final_content = \"\"\n",
    "\n",
    "    # Create the sequences\n",
    "    for begin_loc in tqdm(range(0, seq_len, stride)):\n",
    "        end_loc = min(begin_loc + stride, seq_len)\n",
    "        if len(split_content[begin_loc:end_loc]) != 0:\n",
    "            # Include a new line at the end of the generated sequence\n",
    "            final_content += \"<s>\" + ' '.join(split_content[begin_loc:end_loc]) + \"</s> \\n\"\n",
    "\n",
    "    # Return the sequences\n",
    "    return final_content"
   ],
   "metadata": {
    "collapsed": false
   }
  },
  {
   "cell_type": "code",
   "execution_count": 7,
   "outputs": [],
   "source": [
    "def create_dataset(folder_path, file_ext, folder_destination, dataset_name=\"dataset.txt\"):\n",
    "    # folder_path is the source path\n",
    "    # file_ext is the file formats to be matched\n",
    "    # folder_destination is where to save the dataset\n",
    "    # dataset_name is the name of the dataset (default will be dataset.txt)\n",
    "\n",
    "    # Save file paths matched in files variable\n",
    "    print(\"Start processing ...\")\n",
    "    files = wcmatch.WcMatch(root_dir=folder_path, file_pattern=file_ext, flags=wcmatch.RECURSIVE).match()\n",
    "    print(str(len(files)) + \" files to be processed!\")\n",
    "\n",
    "    # Loop through and process each file\n",
    "    i = 0\n",
    "    while i < len(files):\n",
    "        try:\n",
    "            # Get extracted sentences\n",
    "            contents = extract_sentences(files[i])\n",
    "            # Ignore \"Empty\" sentences\n",
    "            if contents != 'Empty':\n",
    "                # Open or create dataset in append and byte mode\n",
    "                f = open(folder_destination + dataset_name, \"ab\")\n",
    "                # Save contents in utf-8 encoding\n",
    "                f.write(contents.encode('utf-8'))\n",
    "                f.close()\n",
    "        except Exception as e:\n",
    "            # Log any issues encountered for further investigation\n",
    "            print(files[i])\n",
    "            print (\"Error saving extraction to file \" + str(e))\n",
    "\n",
    "        # Increment counter\n",
    "        i += 1\n",
    "\n",
    "    print(\"Finished processing ...\")"
   ],
   "metadata": {
    "collapsed": false
   }
  },
  {
   "cell_type": "code",
   "execution_count": 8,
   "outputs": [],
   "source": [
    "# Read from the following path\n",
    "folder_path = \"C:\\\\Users\\\\r.muema\\\\Documents\\\\Study\\\\KaggleX\\\\Project\\\\Extracted data\\\\ELO 23\"\n",
    "#Only process the following file formats, add more file extensions using comma separation\n",
    "file_ext = \"*.txt\"\n",
    "# Save to the following path\n",
    "folder_destination = \"C:\\\\Users\\\\r.muema\\\\Documents\\\\Study\\\\KaggleX\\\\Project\\\\Preprocessed data\\\\\"\n",
    "# Dataset name (can be omitted to use default values)\n",
    "dataset_name=\"custom-llama2-dataset.txt\""
   ],
   "metadata": {
    "collapsed": false
   }
  },
  {
   "cell_type": "code",
   "execution_count": 9,
   "outputs": [
    {
     "name": "stdout",
     "output_type": "stream",
     "text": [
      "Start processing ...\n",
      "94 files to be processed!\n"
     ]
    },
    {
     "name": "stderr",
     "output_type": "stream",
     "text": [
      "100%|██████████| 4/4 [00:00<00:00, 2000.14it/s]\n",
      "100%|██████████| 3/3 [00:00<00:00, 3010.99it/s]\n",
      "100%|██████████| 48/48 [00:00<00:00, 4797.95it/s]\n",
      "100%|██████████| 2/2 [00:00<00:00, 1985.47it/s]\n",
      "100%|██████████| 8/8 [00:00<00:00, 3991.72it/s]\n",
      "100%|██████████| 4/4 [00:00<00:00, 1998.72it/s]\n",
      "100%|██████████| 2/2 [00:00<00:00, 999.36it/s]\n",
      "100%|██████████| 8/8 [00:00<00:00, 2666.65it/s]\n",
      "100%|██████████| 1/1 [00:00<00:00, 500.04it/s]\n",
      "100%|██████████| 1/1 [00:00<00:00, 979.29it/s]\n",
      "100%|██████████| 1/1 [00:00<00:00, 999.36it/s]\n",
      "100%|██████████| 22/22 [00:00<00:00, 4397.59it/s]\n",
      "100%|██████████| 14/14 [00:00<00:00, 3498.38it/s]\n",
      "100%|██████████| 1/1 [00:00<00:00, 997.22it/s]\n",
      "100%|██████████| 12/12 [00:00<00:00, 3000.04it/s]\n",
      "100%|██████████| 7/7 [00:00<00:00, 2334.99it/s]\n",
      "100%|██████████| 21/21 [00:00<00:00, 4615.65it/s]\n",
      "100%|██████████| 1/1 [00:00<00:00, 1014.83it/s]\n",
      "100%|██████████| 15/15 [00:00<00:00, 3746.48it/s]\n",
      "100%|██████████| 15/15 [00:00<00:00, 1670.24it/s]\n",
      "100%|██████████| 2/2 [00:00<00:00, 1995.86it/s]\n",
      "100%|██████████| 3/3 [00:00<00:00, 1485.06it/s]\n",
      "100%|██████████| 6/6 [00:00<00:00, 6014.78it/s]\n",
      "100%|██████████| 2/2 [00:00<00:00, 2006.36it/s]\n",
      "100%|██████████| 3/3 [00:00<00:00, 749.79it/s]\n",
      "100%|██████████| 10/10 [00:00<00:00, 2001.29it/s]\n",
      "100%|██████████| 20/20 [00:00<00:00, 2217.57it/s]\n",
      "100%|██████████| 7/7 [00:00<00:00, 3500.25it/s]\n",
      "100%|██████████| 8/8 [00:00<00:00, 1599.20it/s]\n",
      "100%|██████████| 45/45 [00:00<00:00, 732.92it/s]\n",
      "100%|██████████| 1/1 [00:00<00:00, 997.22it/s]\n",
      "100%|██████████| 4/4 [00:00<00:00, 1998.00it/s]\n",
      "100%|██████████| 8/8 [00:00<00:00, 7977.75it/s]\n",
      "100%|██████████| 1/1 [00:00<00:00, 1002.70it/s]\n",
      "100%|██████████| 2/2 [00:00<00:00, 2007.32it/s]\n",
      "100%|██████████| 1/1 [00:00<00:00, 997.46it/s]\n",
      "100%|██████████| 4/4 [00:00<?, ?it/s]\n",
      "100%|██████████| 2/2 [00:00<00:00, 2001.10it/s]\n",
      "100%|██████████| 10/10 [00:00<00:00, 2176.94it/s]\n",
      "100%|██████████| 2/2 [00:00<00:00, 2001.58it/s]\n",
      "100%|██████████| 5/5 [00:00<00:00, 5006.33it/s]\n",
      "100%|██████████| 10/10 [00:00<00:00, 4999.77it/s]\n",
      "100%|██████████| 5/5 [00:00<00:00, 4960.15it/s]\n",
      "100%|██████████| 5/5 [00:00<00:00, 5006.33it/s]\n",
      "100%|██████████| 13/13 [00:00<00:00, 6516.79it/s]\n",
      "100%|██████████| 13/13 [00:00<00:00, 218.29it/s]\n",
      "100%|██████████| 28/28 [00:00<00:00, 4665.71it/s]\n",
      "100%|██████████| 4/4 [00:00<00:00, 148.16it/s]\n",
      "100%|██████████| 13/13 [00:00<00:00, 2598.70it/s]\n",
      "100%|██████████| 2/2 [00:00<00:00, 2002.53it/s]\n",
      "100%|██████████| 4/4 [00:00<00:00, 1569.87it/s]\n",
      "100%|██████████| 3/3 [00:00<00:00, 2950.27it/s]\n",
      "100%|██████████| 22/22 [00:00<00:00, 7322.23it/s]\n",
      "100%|██████████| 1/1 [00:00<?, ?it/s]\n",
      "100%|██████████| 6/6 [00:00<00:00, 2677.50it/s]\n",
      "100%|██████████| 14/14 [00:00<00:00, 6992.17it/s]\n",
      "100%|██████████| 6/6 [00:00<00:00, 2999.14it/s]\n",
      "100%|██████████| 4/4 [00:00<00:00, 1998.72it/s]\n",
      "100%|██████████| 16/16 [00:00<00:00, 4002.44it/s]\n",
      "100%|██████████| 8/8 [00:00<00:00, 7979.65it/s]\n",
      "100%|██████████| 1/1 [00:00<00:00, 333.15it/s]\n",
      "100%|██████████| 5/5 [00:00<00:00, 5019.51it/s]\n"
     ]
    },
    {
     "name": "stdout",
     "output_type": "stream",
     "text": [
      "C:\\Users\\r.muema\\Documents\\Study\\KaggleX\\Project\\Extracted data\\ELO 23\\en-us_ops-onprem_installation.txt\n",
      "Error saving extraction to file 'charmap' codec can't decode byte 0x9d in position 2628: character maps to <undefined>\n"
     ]
    },
    {
     "name": "stderr",
     "output_type": "stream",
     "text": [
      "100%|██████████| 8/8 [00:00<00:00, 4001.72it/s]\n",
      "100%|██████████| 3/3 [00:00<00:00, 3003.08it/s]\n",
      "100%|██████████| 18/18 [00:00<00:00, 6007.60it/s]\n",
      "100%|██████████| 10/10 [00:00<00:00, 2500.78it/s]\n",
      "100%|██████████| 10/10 [00:00<00:00, 2493.20it/s]\n",
      "100%|██████████| 5/5 [00:00<00:00, 2501.37it/s]\n"
     ]
    },
    {
     "name": "stdout",
     "output_type": "stream",
     "text": [
      "C:\\Users\\r.muema\\Documents\\Study\\KaggleX\\Project\\Extracted data\\ELO 23\\en-us_ops-sand_installation-operation.txt\n",
      "Error saving extraction to file 'charmap' codec can't decode byte 0x9d in position 310: character maps to <undefined>\n"
     ]
    },
    {
     "name": "stderr",
     "output_type": "stream",
     "text": [
      "100%|██████████| 7/7 [00:00<00:00, 3482.81it/s]\n",
      "100%|██████████| 15/15 [00:00<00:00, 7460.52it/s]\n",
      "100%|██████████| 7/7 [00:00<00:00, 7008.86it/s]\n",
      "100%|██████████| 10/10 [00:00<00:00, 5003.94it/s]\n",
      "100%|██████████| 7/7 [00:00<00:00, 4609.85it/s]\n",
      "100%|██████████| 7/7 [00:00<00:00, 1753.16it/s]\n",
      "100%|██████████| 8/8 [00:00<00:00, 3999.34it/s]\n",
      "100%|██████████| 8/8 [00:00<00:00, 4016.09it/s]\n",
      "100%|██████████| 5/5 [00:00<00:00, 2501.97it/s]\n",
      "100%|██████████| 13/13 [00:00<00:00, 6518.34it/s]\n",
      "100%|██████████| 22/22 [00:00<00:00, 7325.13it/s]\n",
      "100%|██████████| 11/11 [00:00<00:00, 1375.18it/s]\n",
      "100%|██████████| 4/4 [00:00<00:00, 1000.97it/s]\n",
      "100%|██████████| 12/12 [00:00<00:00, 3995.21it/s]\n",
      "100%|██████████| 51/51 [00:00<00:00, 3916.82it/s]\n",
      "100%|██████████| 21/21 [00:00<00:00, 5247.25it/s]\n",
      "100%|██████████| 107/107 [00:00<00:00, 6296.78it/s]\n",
      "100%|██████████| 10/10 [00:00<00:00, 4995.60it/s]\n",
      "100%|██████████| 52/52 [00:00<00:00, 971.01it/s]\n",
      "100%|██████████| 7/7 [00:00<00:00, 7008.86it/s]\n",
      "100%|██████████| 26/26 [00:00<00:00, 6496.99it/s]\n",
      "100%|██████████| 23/23 [00:00<00:00, 5777.62it/s]\n",
      "100%|██████████| 5/5 [00:00<00:00, 5012.31it/s]\n",
      "100%|██████████| 4/4 [00:00<00:00, 3155.39it/s]"
     ]
    },
    {
     "name": "stdout",
     "output_type": "stream",
     "text": [
      "Finished processing ...\n"
     ]
    },
    {
     "name": "stderr",
     "output_type": "stream",
     "text": [
      "\n"
     ]
    }
   ],
   "source": [
    "create_dataset(folder_path, file_ext, folder_destination, dataset_name)"
   ],
   "metadata": {
    "collapsed": false
   }
  },
  {
   "cell_type": "code",
   "execution_count": 10,
   "outputs": [
    {
     "name": "stdout",
     "output_type": "stream",
     "text": [
      "Requirement already satisfied: huggingface_hub in c:\\users\\r.muema\\documents\\study\\kagglex\\project\\development\\venv\\lib\\site-packages (0.17.1)\n",
      "Requirement already satisfied: filelock in c:\\users\\r.muema\\documents\\study\\kagglex\\project\\development\\venv\\lib\\site-packages (from huggingface_hub) (3.12.4)\n",
      "Requirement already satisfied: fsspec in c:\\users\\r.muema\\documents\\study\\kagglex\\project\\development\\venv\\lib\\site-packages (from huggingface_hub) (2023.9.0)\n",
      "Requirement already satisfied: requests in c:\\users\\r.muema\\documents\\study\\kagglex\\project\\development\\venv\\lib\\site-packages (from huggingface_hub) (2.31.0)\n",
      "Requirement already satisfied: tqdm>=4.42.1 in c:\\users\\r.muema\\documents\\study\\kagglex\\project\\development\\venv\\lib\\site-packages (from huggingface_hub) (4.66.1)\n",
      "Requirement already satisfied: pyyaml>=5.1 in c:\\users\\r.muema\\documents\\study\\kagglex\\project\\development\\venv\\lib\\site-packages (from huggingface_hub) (6.0.1)\n",
      "Requirement already satisfied: typing-extensions>=3.7.4.3 in c:\\users\\r.muema\\documents\\study\\kagglex\\project\\development\\venv\\lib\\site-packages (from huggingface_hub) (4.7.1)\n",
      "Requirement already satisfied: packaging>=20.9 in c:\\users\\r.muema\\documents\\study\\kagglex\\project\\development\\venv\\lib\\site-packages (from huggingface_hub) (23.1)\n",
      "Requirement already satisfied: colorama in c:\\users\\r.muema\\documents\\study\\kagglex\\project\\development\\venv\\lib\\site-packages (from tqdm>=4.42.1->huggingface_hub) (0.4.6)\n",
      "Requirement already satisfied: charset-normalizer<4,>=2 in c:\\users\\r.muema\\documents\\study\\kagglex\\project\\development\\venv\\lib\\site-packages (from requests->huggingface_hub) (3.2.0)\n",
      "Requirement already satisfied: idna<4,>=2.5 in c:\\users\\r.muema\\documents\\study\\kagglex\\project\\development\\venv\\lib\\site-packages (from requests->huggingface_hub) (3.4)\n",
      "Requirement already satisfied: urllib3<3,>=1.21.1 in c:\\users\\r.muema\\documents\\study\\kagglex\\project\\development\\venv\\lib\\site-packages (from requests->huggingface_hub) (2.0.4)\n",
      "Requirement already satisfied: certifi>=2017.4.17 in c:\\users\\r.muema\\documents\\study\\kagglex\\project\\development\\venv\\lib\\site-packages (from requests->huggingface_hub) (2023.7.22)\n"
     ]
    }
   ],
   "source": [
    "!pip install huggingface_hub"
   ],
   "metadata": {
    "collapsed": false
   }
  },
  {
   "cell_type": "code",
   "execution_count": null,
   "outputs": [],
   "source": [],
   "metadata": {
    "collapsed": false
   }
  }
 ],
 "metadata": {
  "kernelspec": {
   "display_name": "Python 3",
   "language": "python",
   "name": "python3"
  },
  "language_info": {
   "codemirror_mode": {
    "name": "ipython",
    "version": 2
   },
   "file_extension": ".py",
   "mimetype": "text/x-python",
   "name": "python",
   "nbconvert_exporter": "python",
   "pygments_lexer": "ipython2",
   "version": "2.7.6"
  }
 },
 "nbformat": 4,
 "nbformat_minor": 0
}
